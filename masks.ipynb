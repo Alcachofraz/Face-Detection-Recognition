{
 "cells": [
  {
   "cell_type": "code",
   "execution_count": 5,
   "metadata": {},
   "outputs": [
    {
     "data": {
      "text/plain": [
       "<module 'aligner' from 'c:\\\\Users\\\\pedro\\\\Desktop\\\\Projetos\\\\Face-Detection-Recognition\\\\aligner.py'>"
      ]
     },
     "execution_count": 5,
     "metadata": {},
     "output_type": "execute_result"
    }
   ],
   "source": [
    "import matplotlib.pyplot as plt\n",
    "import numpy as np\n",
    "import numpy.random as rd\n",
    "import cv2\n",
    "import aligner as temp_a\n",
    "from aligner import Aligner\n",
    "from importlib import reload\n",
    "reload(temp_a)"
   ]
  },
  {
   "cell_type": "code",
   "execution_count": 8,
   "metadata": {},
   "outputs": [
    {
     "ename": "AttributeError",
     "evalue": "'AxesImage' object has no property 'eye_scale_factor'",
     "output_type": "error",
     "traceback": [
      "\u001b[1;31m---------------------------------------------------------------------------\u001b[0m",
      "\u001b[1;31mAttributeError\u001b[0m                            Traceback (most recent call last)",
      "\u001b[1;32mc:\\Users\\pedro\\Desktop\\Projetos\\Face-Detection-Recognition\\masks.ipynb Cell 2'\u001b[0m in \u001b[0;36m<module>\u001b[1;34m\u001b[0m\n\u001b[0;32m     <a href='vscode-notebook-cell:/c%3A/Users/pedro/Desktop/Projetos/Face-Detection-Recognition/masks.ipynb#ch0000001?line=36'>37</a>\u001b[0m     \u001b[39mreturn\u001b[39;00m np\u001b[39m.\u001b[39marray(final, dtype\u001b[39m=\u001b[39mnp\u001b[39m.\u001b[39muint8)\n\u001b[0;32m     <a href='vscode-notebook-cell:/c%3A/Users/pedro/Desktop/Projetos/Face-Detection-Recognition/masks.ipynb#ch0000001?line=38'>39</a>\u001b[0m plt\u001b[39m.\u001b[39mfigure(figsize\u001b[39m=\u001b[39m(\u001b[39m8\u001b[39m, \u001b[39m10\u001b[39m))\n\u001b[1;32m---> <a href='vscode-notebook-cell:/c%3A/Users/pedro/Desktop/Projetos/Face-Detection-Recognition/masks.ipynb#ch0000001?line=39'>40</a>\u001b[0m plt\u001b[39m.\u001b[39;49mimshow(addVirtualObject(example, [\u001b[39m'\u001b[39;49m\u001b[39mhat\u001b[39;49m\u001b[39m'\u001b[39;49m, \u001b[39m'\u001b[39;49m\u001b[39mglasses\u001b[39;49m\u001b[39m'\u001b[39;49m])[\n\u001b[0;32m     <a href='vscode-notebook-cell:/c%3A/Users/pedro/Desktop/Projetos/Face-Detection-Recognition/masks.ipynb#ch0000001?line=40'>41</a>\u001b[0m            :, :, ::\u001b[39m-\u001b[39;49m\u001b[39m1\u001b[39;49m], eye_scale_factor\u001b[39m=\u001b[39;49m\u001b[39m1.05\u001b[39;49m, eye_min_neighbors\u001b[39m=\u001b[39;49m\u001b[39m3\u001b[39;49m)\n",
      "File \u001b[1;32m~\\AppData\\Local\\Programs\\Python\\Python39\\lib\\site-packages\\matplotlib\\pyplot.py:2903\u001b[0m, in \u001b[0;36mimshow\u001b[1;34m(X, cmap, norm, aspect, interpolation, alpha, vmin, vmax, origin, extent, filternorm, filterrad, resample, url, data, **kwargs)\u001b[0m\n\u001b[0;32m   <a href='file:///c%3A/Users/pedro/AppData/Local/Programs/Python/Python39/lib/site-packages/matplotlib/pyplot.py?line=2896'>2897</a>\u001b[0m \u001b[39m@_copy_docstring_and_deprecators\u001b[39m(Axes\u001b[39m.\u001b[39mimshow)\n\u001b[0;32m   <a href='file:///c%3A/Users/pedro/AppData/Local/Programs/Python/Python39/lib/site-packages/matplotlib/pyplot.py?line=2897'>2898</a>\u001b[0m \u001b[39mdef\u001b[39;00m \u001b[39mimshow\u001b[39m(\n\u001b[0;32m   <a href='file:///c%3A/Users/pedro/AppData/Local/Programs/Python/Python39/lib/site-packages/matplotlib/pyplot.py?line=2898'>2899</a>\u001b[0m         X, cmap\u001b[39m=\u001b[39m\u001b[39mNone\u001b[39;00m, norm\u001b[39m=\u001b[39m\u001b[39mNone\u001b[39;00m, aspect\u001b[39m=\u001b[39m\u001b[39mNone\u001b[39;00m, interpolation\u001b[39m=\u001b[39m\u001b[39mNone\u001b[39;00m,\n\u001b[0;32m   <a href='file:///c%3A/Users/pedro/AppData/Local/Programs/Python/Python39/lib/site-packages/matplotlib/pyplot.py?line=2899'>2900</a>\u001b[0m         alpha\u001b[39m=\u001b[39m\u001b[39mNone\u001b[39;00m, vmin\u001b[39m=\u001b[39m\u001b[39mNone\u001b[39;00m, vmax\u001b[39m=\u001b[39m\u001b[39mNone\u001b[39;00m, origin\u001b[39m=\u001b[39m\u001b[39mNone\u001b[39;00m, extent\u001b[39m=\u001b[39m\u001b[39mNone\u001b[39;00m, \u001b[39m*\u001b[39m,\n\u001b[0;32m   <a href='file:///c%3A/Users/pedro/AppData/Local/Programs/Python/Python39/lib/site-packages/matplotlib/pyplot.py?line=2900'>2901</a>\u001b[0m         filternorm\u001b[39m=\u001b[39m\u001b[39mTrue\u001b[39;00m, filterrad\u001b[39m=\u001b[39m\u001b[39m4.0\u001b[39m, resample\u001b[39m=\u001b[39m\u001b[39mNone\u001b[39;00m, url\u001b[39m=\u001b[39m\u001b[39mNone\u001b[39;00m,\n\u001b[0;32m   <a href='file:///c%3A/Users/pedro/AppData/Local/Programs/Python/Python39/lib/site-packages/matplotlib/pyplot.py?line=2901'>2902</a>\u001b[0m         data\u001b[39m=\u001b[39m\u001b[39mNone\u001b[39;00m, \u001b[39m*\u001b[39m\u001b[39m*\u001b[39mkwargs):\n\u001b[1;32m-> <a href='file:///c%3A/Users/pedro/AppData/Local/Programs/Python/Python39/lib/site-packages/matplotlib/pyplot.py?line=2902'>2903</a>\u001b[0m     __ret \u001b[39m=\u001b[39m gca()\u001b[39m.\u001b[39mimshow(\n\u001b[0;32m   <a href='file:///c%3A/Users/pedro/AppData/Local/Programs/Python/Python39/lib/site-packages/matplotlib/pyplot.py?line=2903'>2904</a>\u001b[0m         X, cmap\u001b[39m=\u001b[39mcmap, norm\u001b[39m=\u001b[39mnorm, aspect\u001b[39m=\u001b[39maspect,\n\u001b[0;32m   <a href='file:///c%3A/Users/pedro/AppData/Local/Programs/Python/Python39/lib/site-packages/matplotlib/pyplot.py?line=2904'>2905</a>\u001b[0m         interpolation\u001b[39m=\u001b[39minterpolation, alpha\u001b[39m=\u001b[39malpha, vmin\u001b[39m=\u001b[39mvmin,\n\u001b[0;32m   <a href='file:///c%3A/Users/pedro/AppData/Local/Programs/Python/Python39/lib/site-packages/matplotlib/pyplot.py?line=2905'>2906</a>\u001b[0m         vmax\u001b[39m=\u001b[39mvmax, origin\u001b[39m=\u001b[39morigin, extent\u001b[39m=\u001b[39mextent,\n\u001b[0;32m   <a href='file:///c%3A/Users/pedro/AppData/Local/Programs/Python/Python39/lib/site-packages/matplotlib/pyplot.py?line=2906'>2907</a>\u001b[0m         filternorm\u001b[39m=\u001b[39mfilternorm, filterrad\u001b[39m=\u001b[39mfilterrad, resample\u001b[39m=\u001b[39mresample,\n\u001b[0;32m   <a href='file:///c%3A/Users/pedro/AppData/Local/Programs/Python/Python39/lib/site-packages/matplotlib/pyplot.py?line=2907'>2908</a>\u001b[0m         url\u001b[39m=\u001b[39murl, \u001b[39m*\u001b[39m\u001b[39m*\u001b[39m({\u001b[39m\"\u001b[39m\u001b[39mdata\u001b[39m\u001b[39m\"\u001b[39m: data} \u001b[39mif\u001b[39;00m data \u001b[39mis\u001b[39;00m \u001b[39mnot\u001b[39;00m \u001b[39mNone\u001b[39;00m \u001b[39melse\u001b[39;00m {}),\n\u001b[0;32m   <a href='file:///c%3A/Users/pedro/AppData/Local/Programs/Python/Python39/lib/site-packages/matplotlib/pyplot.py?line=2908'>2909</a>\u001b[0m         \u001b[39m*\u001b[39m\u001b[39m*\u001b[39mkwargs)\n\u001b[0;32m   <a href='file:///c%3A/Users/pedro/AppData/Local/Programs/Python/Python39/lib/site-packages/matplotlib/pyplot.py?line=2909'>2910</a>\u001b[0m     sci(__ret)\n\u001b[0;32m   <a href='file:///c%3A/Users/pedro/AppData/Local/Programs/Python/Python39/lib/site-packages/matplotlib/pyplot.py?line=2910'>2911</a>\u001b[0m     \u001b[39mreturn\u001b[39;00m __ret\n",
      "File \u001b[1;32m~\\AppData\\Local\\Programs\\Python\\Python39\\lib\\site-packages\\matplotlib\\__init__.py:1361\u001b[0m, in \u001b[0;36m_preprocess_data.<locals>.inner\u001b[1;34m(ax, data, *args, **kwargs)\u001b[0m\n\u001b[0;32m   <a href='file:///c%3A/Users/pedro/AppData/Local/Programs/Python/Python39/lib/site-packages/matplotlib/__init__.py?line=1357'>1358</a>\u001b[0m \u001b[39m@functools\u001b[39m\u001b[39m.\u001b[39mwraps(func)\n\u001b[0;32m   <a href='file:///c%3A/Users/pedro/AppData/Local/Programs/Python/Python39/lib/site-packages/matplotlib/__init__.py?line=1358'>1359</a>\u001b[0m \u001b[39mdef\u001b[39;00m \u001b[39minner\u001b[39m(ax, \u001b[39m*\u001b[39margs, data\u001b[39m=\u001b[39m\u001b[39mNone\u001b[39;00m, \u001b[39m*\u001b[39m\u001b[39m*\u001b[39mkwargs):\n\u001b[0;32m   <a href='file:///c%3A/Users/pedro/AppData/Local/Programs/Python/Python39/lib/site-packages/matplotlib/__init__.py?line=1359'>1360</a>\u001b[0m     \u001b[39mif\u001b[39;00m data \u001b[39mis\u001b[39;00m \u001b[39mNone\u001b[39;00m:\n\u001b[1;32m-> <a href='file:///c%3A/Users/pedro/AppData/Local/Programs/Python/Python39/lib/site-packages/matplotlib/__init__.py?line=1360'>1361</a>\u001b[0m         \u001b[39mreturn\u001b[39;00m func(ax, \u001b[39m*\u001b[39m\u001b[39mmap\u001b[39m(sanitize_sequence, args), \u001b[39m*\u001b[39m\u001b[39m*\u001b[39mkwargs)\n\u001b[0;32m   <a href='file:///c%3A/Users/pedro/AppData/Local/Programs/Python/Python39/lib/site-packages/matplotlib/__init__.py?line=1362'>1363</a>\u001b[0m     bound \u001b[39m=\u001b[39m new_sig\u001b[39m.\u001b[39mbind(ax, \u001b[39m*\u001b[39margs, \u001b[39m*\u001b[39m\u001b[39m*\u001b[39mkwargs)\n\u001b[0;32m   <a href='file:///c%3A/Users/pedro/AppData/Local/Programs/Python/Python39/lib/site-packages/matplotlib/__init__.py?line=1363'>1364</a>\u001b[0m     auto_label \u001b[39m=\u001b[39m (bound\u001b[39m.\u001b[39marguments\u001b[39m.\u001b[39mget(label_namer)\n\u001b[0;32m   <a href='file:///c%3A/Users/pedro/AppData/Local/Programs/Python/Python39/lib/site-packages/matplotlib/__init__.py?line=1364'>1365</a>\u001b[0m                   \u001b[39mor\u001b[39;00m bound\u001b[39m.\u001b[39mkwargs\u001b[39m.\u001b[39mget(label_namer))\n",
      "File \u001b[1;32m~\\AppData\\Local\\Programs\\Python\\Python39\\lib\\site-packages\\matplotlib\\axes\\_axes.py:5605\u001b[0m, in \u001b[0;36mAxes.imshow\u001b[1;34m(self, X, cmap, norm, aspect, interpolation, alpha, vmin, vmax, origin, extent, filternorm, filterrad, resample, url, **kwargs)\u001b[0m\n\u001b[0;32m   <a href='file:///c%3A/Users/pedro/AppData/Local/Programs/Python/Python39/lib/site-packages/matplotlib/axes/_axes.py?line=5602'>5603</a>\u001b[0m     aspect \u001b[39m=\u001b[39m rcParams[\u001b[39m'\u001b[39m\u001b[39mimage.aspect\u001b[39m\u001b[39m'\u001b[39m]\n\u001b[0;32m   <a href='file:///c%3A/Users/pedro/AppData/Local/Programs/Python/Python39/lib/site-packages/matplotlib/axes/_axes.py?line=5603'>5604</a>\u001b[0m \u001b[39mself\u001b[39m\u001b[39m.\u001b[39mset_aspect(aspect)\n\u001b[1;32m-> <a href='file:///c%3A/Users/pedro/AppData/Local/Programs/Python/Python39/lib/site-packages/matplotlib/axes/_axes.py?line=5604'>5605</a>\u001b[0m im \u001b[39m=\u001b[39m mimage\u001b[39m.\u001b[39mAxesImage(\u001b[39mself\u001b[39m, cmap, norm, interpolation, origin, extent,\n\u001b[0;32m   <a href='file:///c%3A/Users/pedro/AppData/Local/Programs/Python/Python39/lib/site-packages/matplotlib/axes/_axes.py?line=5605'>5606</a>\u001b[0m                       filternorm\u001b[39m=\u001b[39mfilternorm, filterrad\u001b[39m=\u001b[39mfilterrad,\n\u001b[0;32m   <a href='file:///c%3A/Users/pedro/AppData/Local/Programs/Python/Python39/lib/site-packages/matplotlib/axes/_axes.py?line=5606'>5607</a>\u001b[0m                       resample\u001b[39m=\u001b[39mresample, \u001b[39m*\u001b[39m\u001b[39m*\u001b[39mkwargs)\n\u001b[0;32m   <a href='file:///c%3A/Users/pedro/AppData/Local/Programs/Python/Python39/lib/site-packages/matplotlib/axes/_axes.py?line=5608'>5609</a>\u001b[0m im\u001b[39m.\u001b[39mset_data(X)\n\u001b[0;32m   <a href='file:///c%3A/Users/pedro/AppData/Local/Programs/Python/Python39/lib/site-packages/matplotlib/axes/_axes.py?line=5609'>5610</a>\u001b[0m im\u001b[39m.\u001b[39mset_alpha(alpha)\n",
      "File \u001b[1;32m~\\AppData\\Local\\Programs\\Python\\Python39\\lib\\site-packages\\matplotlib\\image.py:900\u001b[0m, in \u001b[0;36mAxesImage.__init__\u001b[1;34m(self, ax, cmap, norm, interpolation, origin, extent, filternorm, filterrad, resample, **kwargs)\u001b[0m\n\u001b[0;32m    <a href='file:///c%3A/Users/pedro/AppData/Local/Programs/Python/Python39/lib/site-packages/matplotlib/image.py?line=885'>886</a>\u001b[0m \u001b[39mdef\u001b[39;00m \u001b[39m__init__\u001b[39m(\u001b[39mself\u001b[39m, ax,\n\u001b[0;32m    <a href='file:///c%3A/Users/pedro/AppData/Local/Programs/Python/Python39/lib/site-packages/matplotlib/image.py?line=886'>887</a>\u001b[0m              cmap\u001b[39m=\u001b[39m\u001b[39mNone\u001b[39;00m,\n\u001b[0;32m    <a href='file:///c%3A/Users/pedro/AppData/Local/Programs/Python/Python39/lib/site-packages/matplotlib/image.py?line=887'>888</a>\u001b[0m              norm\u001b[39m=\u001b[39m\u001b[39mNone\u001b[39;00m,\n\u001b[1;32m   (...)\u001b[0m\n\u001b[0;32m    <a href='file:///c%3A/Users/pedro/AppData/Local/Programs/Python/Python39/lib/site-packages/matplotlib/image.py?line=894'>895</a>\u001b[0m              \u001b[39m*\u001b[39m\u001b[39m*\u001b[39mkwargs\n\u001b[0;32m    <a href='file:///c%3A/Users/pedro/AppData/Local/Programs/Python/Python39/lib/site-packages/matplotlib/image.py?line=895'>896</a>\u001b[0m              ):\n\u001b[0;32m    <a href='file:///c%3A/Users/pedro/AppData/Local/Programs/Python/Python39/lib/site-packages/matplotlib/image.py?line=897'>898</a>\u001b[0m     \u001b[39mself\u001b[39m\u001b[39m.\u001b[39m_extent \u001b[39m=\u001b[39m extent\n\u001b[1;32m--> <a href='file:///c%3A/Users/pedro/AppData/Local/Programs/Python/Python39/lib/site-packages/matplotlib/image.py?line=899'>900</a>\u001b[0m     \u001b[39msuper\u001b[39m()\u001b[39m.\u001b[39m\u001b[39m__init__\u001b[39m(\n\u001b[0;32m    <a href='file:///c%3A/Users/pedro/AppData/Local/Programs/Python/Python39/lib/site-packages/matplotlib/image.py?line=900'>901</a>\u001b[0m         ax,\n\u001b[0;32m    <a href='file:///c%3A/Users/pedro/AppData/Local/Programs/Python/Python39/lib/site-packages/matplotlib/image.py?line=901'>902</a>\u001b[0m         cmap\u001b[39m=\u001b[39mcmap,\n\u001b[0;32m    <a href='file:///c%3A/Users/pedro/AppData/Local/Programs/Python/Python39/lib/site-packages/matplotlib/image.py?line=902'>903</a>\u001b[0m         norm\u001b[39m=\u001b[39mnorm,\n\u001b[0;32m    <a href='file:///c%3A/Users/pedro/AppData/Local/Programs/Python/Python39/lib/site-packages/matplotlib/image.py?line=903'>904</a>\u001b[0m         interpolation\u001b[39m=\u001b[39minterpolation,\n\u001b[0;32m    <a href='file:///c%3A/Users/pedro/AppData/Local/Programs/Python/Python39/lib/site-packages/matplotlib/image.py?line=904'>905</a>\u001b[0m         origin\u001b[39m=\u001b[39morigin,\n\u001b[0;32m    <a href='file:///c%3A/Users/pedro/AppData/Local/Programs/Python/Python39/lib/site-packages/matplotlib/image.py?line=905'>906</a>\u001b[0m         filternorm\u001b[39m=\u001b[39mfilternorm,\n\u001b[0;32m    <a href='file:///c%3A/Users/pedro/AppData/Local/Programs/Python/Python39/lib/site-packages/matplotlib/image.py?line=906'>907</a>\u001b[0m         filterrad\u001b[39m=\u001b[39mfilterrad,\n\u001b[0;32m    <a href='file:///c%3A/Users/pedro/AppData/Local/Programs/Python/Python39/lib/site-packages/matplotlib/image.py?line=907'>908</a>\u001b[0m         resample\u001b[39m=\u001b[39mresample,\n\u001b[0;32m    <a href='file:///c%3A/Users/pedro/AppData/Local/Programs/Python/Python39/lib/site-packages/matplotlib/image.py?line=908'>909</a>\u001b[0m         \u001b[39m*\u001b[39m\u001b[39m*\u001b[39mkwargs\n\u001b[0;32m    <a href='file:///c%3A/Users/pedro/AppData/Local/Programs/Python/Python39/lib/site-packages/matplotlib/image.py?line=909'>910</a>\u001b[0m     )\n",
      "File \u001b[1;32m~\\AppData\\Local\\Programs\\Python\\Python39\\lib\\site-packages\\matplotlib\\image.py:257\u001b[0m, in \u001b[0;36m_ImageBase.__init__\u001b[1;34m(self, ax, cmap, norm, interpolation, origin, filternorm, filterrad, resample, **kwargs)\u001b[0m\n\u001b[0;32m    <a href='file:///c%3A/Users/pedro/AppData/Local/Programs/Python/Python39/lib/site-packages/matplotlib/image.py?line=252'>253</a>\u001b[0m \u001b[39mself\u001b[39m\u001b[39m.\u001b[39maxes \u001b[39m=\u001b[39m ax\n\u001b[0;32m    <a href='file:///c%3A/Users/pedro/AppData/Local/Programs/Python/Python39/lib/site-packages/matplotlib/image.py?line=254'>255</a>\u001b[0m \u001b[39mself\u001b[39m\u001b[39m.\u001b[39m_imcache \u001b[39m=\u001b[39m \u001b[39mNone\u001b[39;00m\n\u001b[1;32m--> <a href='file:///c%3A/Users/pedro/AppData/Local/Programs/Python/Python39/lib/site-packages/matplotlib/image.py?line=256'>257</a>\u001b[0m \u001b[39mself\u001b[39;49m\u001b[39m.\u001b[39;49mupdate(kwargs)\n",
      "File \u001b[1;32m~\\AppData\\Local\\Programs\\Python\\Python39\\lib\\site-packages\\matplotlib\\artist.py:1062\u001b[0m, in \u001b[0;36mArtist.update\u001b[1;34m(self, props)\u001b[0m\n\u001b[0;32m   <a href='file:///c%3A/Users/pedro/AppData/Local/Programs/Python/Python39/lib/site-packages/matplotlib/artist.py?line=1059'>1060</a>\u001b[0m             func \u001b[39m=\u001b[39m \u001b[39mgetattr\u001b[39m(\u001b[39mself\u001b[39m, \u001b[39mf\u001b[39m\u001b[39m\"\u001b[39m\u001b[39mset_\u001b[39m\u001b[39m{\u001b[39;00mk\u001b[39m}\u001b[39;00m\u001b[39m\"\u001b[39m, \u001b[39mNone\u001b[39;00m)\n\u001b[0;32m   <a href='file:///c%3A/Users/pedro/AppData/Local/Programs/Python/Python39/lib/site-packages/matplotlib/artist.py?line=1060'>1061</a>\u001b[0m             \u001b[39mif\u001b[39;00m \u001b[39mnot\u001b[39;00m callable(func):\n\u001b[1;32m-> <a href='file:///c%3A/Users/pedro/AppData/Local/Programs/Python/Python39/lib/site-packages/matplotlib/artist.py?line=1061'>1062</a>\u001b[0m                 \u001b[39mraise\u001b[39;00m \u001b[39mAttributeError\u001b[39;00m(\u001b[39mf\u001b[39m\u001b[39m\"\u001b[39m\u001b[39m{\u001b[39;00m\u001b[39mtype\u001b[39m(\u001b[39mself\u001b[39m)\u001b[39m.\u001b[39m\u001b[39m__name__\u001b[39m\u001b[39m!r}\u001b[39;00m\u001b[39m object \u001b[39m\u001b[39m\"\u001b[39m\n\u001b[0;32m   <a href='file:///c%3A/Users/pedro/AppData/Local/Programs/Python/Python39/lib/site-packages/matplotlib/artist.py?line=1062'>1063</a>\u001b[0m                                      \u001b[39mf\u001b[39m\u001b[39m\"\u001b[39m\u001b[39mhas no property \u001b[39m\u001b[39m{\u001b[39;00mk\u001b[39m!r}\u001b[39;00m\u001b[39m\"\u001b[39m)\n\u001b[0;32m   <a href='file:///c%3A/Users/pedro/AppData/Local/Programs/Python/Python39/lib/site-packages/matplotlib/artist.py?line=1063'>1064</a>\u001b[0m             ret\u001b[39m.\u001b[39mappend(func(v))\n\u001b[0;32m   <a href='file:///c%3A/Users/pedro/AppData/Local/Programs/Python/Python39/lib/site-packages/matplotlib/artist.py?line=1064'>1065</a>\u001b[0m \u001b[39mif\u001b[39;00m ret:\n",
      "\u001b[1;31mAttributeError\u001b[0m: 'AxesImage' object has no property 'eye_scale_factor'"
     ]
    },
    {
     "data": {
      "image/png": "[encoded data removed]",
      "text/plain": [
       "<Figure size 576x720 with 1 Axes>"
      ]
     },
     "metadata": {
      "needs_background": "light"
     },
     "output_type": "display_data"
    }
   ],
   "source": [
    "example = cv2.imread('cillian/cillian08.jpg')\n",
    "hat = cv2.imread('objects/cowboy.jpg')\n",
    "glasses = cv2.imread('objects/glasses.jpg')\n",
    "\n",
    "# Hat eye center\n",
    "hat_left_eye_center = (580, 560)\n",
    "hat_right_eye_center = (740, 560)\n",
    "\n",
    "# Glasses eye center\n",
    "glasses_left_eye_center = (410, 350)\n",
    "glasses_right_eye_center = (870, 350)\n",
    "\n",
    "dic_objects = {'hat': hat, 'glasses': glasses}\n",
    "dic_left_eye_center = {'hat': (580, 560), 'glasses': (410, 350)}\n",
    "dic_right_eye_center = {'hat': (740, 560), 'glasses': (870, 350)}\n",
    "\n",
    "\n",
    "def addVirtualObject(face, objects, eye_scale_factor=1.1, eye_min_neighbors=6):\n",
    "    a = Aligner(eye_scale_factor=eye_scale_factor,\n",
    "                eye_min_neighbors=eye_min_neighbors)\n",
    "    final = face\n",
    "    for object in objects:\n",
    "        object_normalized = a.alignObjectToFace(dic_objects[object], face, dic_left_eye_center[object], dic_right_eye_center[object])\n",
    "        if (object_normalized is None):\n",
    "            continue\n",
    "        ## convert to hsv\n",
    "        object_normalized_hsv = cv2.cvtColor(object_normalized, cv2.COLOR_BGR2HSV)\n",
    "\n",
    "        ## mask of green (36,25,25) ~ (86, 255,255)\n",
    "        object_normalized_mask = cv2.inRange(object_normalized_hsv, (36, 25, 25), (86, 255, 255)) / 255\n",
    "\n",
    "        ## convert to rgb array of ints\n",
    "        object_normalized_mask = np.array(np.ones((object_normalized_mask.shape[0], object_normalized_mask.shape[1], 3)) * object_normalized_mask[:, :, None], dtype=int)\n",
    "\n",
    "        ## compute chroma key\n",
    "        final = np.multiply(final, object_normalized_mask) + np.multiply(object_normalized, np.logical_not(object_normalized_mask))\n",
    "    return np.array(final, dtype=np.uint8)\n",
    "\n",
    "plt.figure(figsize=(8, 10))\n",
    "plt.imshow(addVirtualObject(example, ['hat', 'glasses'], eye_scale_factor=1.05, eye_min_neighbors=3)[\n",
    "           :, :, ::-1])\n"
   ]
  },
  {
   "cell_type": "code",
   "execution_count": 3,
   "metadata": {},
   "outputs": [
    {
     "ename": "NameError",
     "evalue": "name 'addVirtualObject' is not defined",
     "output_type": "error",
     "traceback": [
      "\u001b[1;31m---------------------------------------------------------------------------\u001b[0m",
      "\u001b[1;31mNameError\u001b[0m                                 Traceback (most recent call last)",
      "\u001b[1;32mc:\\Users\\pedro\\Desktop\\Projetos\\Face-Detection-Recognition\\masks.ipynb Cell 3'\u001b[0m in \u001b[0;36m<module>\u001b[1;34m\u001b[0m\n\u001b[0;32m     <a href='vscode-notebook-cell:/c%3A/Users/pedro/Desktop/Projetos/Face-Detection-Recognition/masks.ipynb#ch0000002?line=18'>19</a>\u001b[0m \u001b[39mwhile\u001b[39;00m \u001b[39mTrue\u001b[39;00m:\n\u001b[0;32m     <a href='vscode-notebook-cell:/c%3A/Users/pedro/Desktop/Projetos/Face-Detection-Recognition/masks.ipynb#ch0000002?line=19'>20</a>\u001b[0m     rval, frame \u001b[39m=\u001b[39m cam\u001b[39m.\u001b[39mread()\n\u001b[1;32m---> <a href='vscode-notebook-cell:/c%3A/Users/pedro/Desktop/Projetos/Face-Detection-Recognition/masks.ipynb#ch0000002?line=20'>21</a>\u001b[0m     frame \u001b[39m=\u001b[39m addVirtualObject(frame, [\u001b[39m'\u001b[39m\u001b[39mhat\u001b[39m\u001b[39m'\u001b[39m, \u001b[39m'\u001b[39m\u001b[39mglasses\u001b[39m\u001b[39m'\u001b[39m])\n\u001b[0;32m     <a href='vscode-notebook-cell:/c%3A/Users/pedro/Desktop/Projetos/Face-Detection-Recognition/masks.ipynb#ch0000002?line=21'>22</a>\u001b[0m     \u001b[39m#findEyes(frame)\u001b[39;00m\n\u001b[0;32m     <a href='vscode-notebook-cell:/c%3A/Users/pedro/Desktop/Projetos/Face-Detection-Recognition/masks.ipynb#ch0000002?line=22'>23</a>\u001b[0m     cv2\u001b[39m.\u001b[39mimshow(\u001b[39m\"\u001b[39m\u001b[39mpreview\u001b[39m\u001b[39m\"\u001b[39m, frame)\n",
      "\u001b[1;31mNameError\u001b[0m: name 'addVirtualObject' is not defined"
     ]
    }
   ],
   "source": [
    "def findEyes(image):\n",
    "    a = Aligner(eye_scale_factor=1.1, eye_min_neighbors=6)\n",
    "    faces = a.cutFaces(image)\n",
    "    if (len(faces) < 1):\n",
    "        return None\n",
    "    face, x, y = faces[0]\n",
    "    eyes = a.findEyes(face)\n",
    "    if (len(eyes) < 2):\n",
    "        return None\n",
    "    for eye in eyes:\n",
    "        xe, ye, w, h = eye\n",
    "        xe += x\n",
    "        ye += y\n",
    "        cv2.rectangle(image, (xe, ye), (xe + w, ye + h), (0, 0, 255), 2)\n",
    "\n",
    "cv2.namedWindow(\"preview\")\n",
    "cam = cv2.VideoCapture(0)\n",
    "\n",
    "while True:\n",
    "    rval, frame = cam.read()\n",
    "    frame = addVirtualObject(frame, ['hat', 'glasses'])\n",
    "    #findEyes(frame)\n",
    "    cv2.imshow(\"preview\", frame)\n",
    "    if cv2.waitKey(1) & 0xFF == ord('q'):  # Exit with 'q'\n",
    "        break\n",
    "    \n",
    "cam.release()\n",
    "cv2.destroyAllWindows()"
   ]
  }
 ],
 "metadata": {
  "interpreter": {
   "hash": "c279b18b8beb4a8c881d91c61b7376ce8b2594517df33056bfd5bd915aacbce0"
  },
  "kernelspec": {
   "display_name": "Python 3.10.3 64-bit",
   "language": "python",
   "name": "python3"
  },
  "language_info": {
   "codemirror_mode": {
    "name": "ipython",
    "version": 3
   },
   "file_extension": ".py",
   "mimetype": "text/x-python",
   "name": "python",
   "nbconvert_exporter": "python",
   "pygments_lexer": "ipython3",
   "version": "3.9.6"
  },
  "orig_nbformat": 4
 },
 "nbformat": 4,
 "nbformat_minor": 2
}
